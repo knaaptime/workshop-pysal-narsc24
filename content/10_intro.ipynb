{
 "cells": [
  {
   "cell_type": "markdown",
   "id": "2cb62939-90f6-4698-a618-9631c80af5c3",
   "metadata": {},
   "source": [
    "## Introduction\n",
    "\n",
    "This notebook serves as an introductory guide to using pysal and its associated libraries for spatial data analysis and visualization. It provides a  pathway through essential spatial data techniques, from creating customized choropleth maps and exploring interactive maps to calculating spatial weights for analyzing spatial relationships. Each section builds on the previous one, gradually equipping users with the skills to handle various spatial analysis tasks. This structure ensures that users can apply the covered techniques in a range of spatial contexts.\n",
    "\n",
    "\n",
    "The contents are organized as follows:\n",
    "\n",
    "- Reading Spatial Data: GeoPandas and libpysal Basics - An introduction to working with GeoDataFrames and loading spatial datasets.\n",
    "- Visualizing Spatial Data: Mapping - Techniques for creating and styling various maps, including choropleths and interactive maps.\n",
    "- Representing Spatial Structure: Spatial Weights - Methods to define and visualize spatial relationships, covering contiguity-based weights and graphs.\n",
    "- Spatial Lag - Calculating and interpreting spatial lags to explore spatial dependence.\n",
    "- Global and Local Spatial Autocorrelation - Tools for measuring spatial patterns, including Moran’s I and local indicators of spatial association (LISA).\n",
    "\n"
   ]
  },
  {
   "cell_type": "markdown",
   "id": "f690961a-8554-49cb-a6e3-d2c0d95ce013",
   "metadata": {},
   "source": [
    "## Reading Spatial Data: Geopandas and libpysal\n",
    "\n",
    "This section covers the foundational steps for handling spatial data, including loading and managing datasets with GeoPandas and libpysal. Using GeoDataFrames, we can store and manipulate spatial data efficiently, taking advantage of libpysal's built-in datasets to explore real-world spatial datasets. By following these steps, users will develop a solid grasp of managing spatial datasets and preparing them for visualization and analysis."
   ]
  },
  {
   "cell_type": "code",
   "execution_count": null,
   "id": "28b9665e-5190-4d09-8a24-65221c4b4af0",
   "metadata": {},
   "outputs": [],
   "source": [
    "import libpysal"
   ]
  },
  {
   "cell_type": "code",
   "execution_count": null,
   "id": "9331de8b-42e5-4330-beeb-a591558978f8",
   "metadata": {},
   "outputs": [],
   "source": [
    "libpysal.examples.available()"
   ]
  },
  {
   "cell_type": "code",
   "execution_count": null,
   "id": "a54cb31f-5cd0-43b7-9a15-0024f3a66790",
   "metadata": {},
   "outputs": [],
   "source": [
    "db = libpysal.examples.available()"
   ]
  },
  {
   "cell_type": "code",
   "execution_count": null,
   "id": "868342b1-ddea-4288-bb5f-53141f39a184",
   "metadata": {},
   "outputs": [],
   "source": [
    "db.Name.values"
   ]
  },
  {
   "cell_type": "code",
   "execution_count": null,
   "id": "e59e9ea4-80b4-4f4e-a892-50d95a2fbb98",
   "metadata": {},
   "outputs": [],
   "source": [
    "libpysal.examples.explain('chicagoSDOH')"
   ]
  },
  {
   "cell_type": "code",
   "execution_count": null,
   "id": "3a3f28d3-8379-434d-8d72-76d317fb7b4f",
   "metadata": {},
   "outputs": [],
   "source": [
    "SDOH = libpysal.examples.load_example('chicagoSDOH')"
   ]
  },
  {
   "cell_type": "code",
   "execution_count": null,
   "id": "ad097a4d-07ed-4967-8dcb-ce749d29c3b3",
   "metadata": {},
   "outputs": [],
   "source": [
    "import geopandas as gpd"
   ]
  },
  {
   "cell_type": "code",
   "execution_count": null,
   "id": "aede9db5-3387-416b-9825-4bcec199353c",
   "metadata": {},
   "outputs": [],
   "source": [
    "gdf = gpd.read_file(SDOH.get_path('Chi-SDOH.shp'))"
   ]
  },
  {
   "cell_type": "code",
   "execution_count": null,
   "id": "4475d295-e0c6-4bd8-8d02-52fc663ffabc",
   "metadata": {},
   "outputs": [],
   "source": [
    "gdf.head()"
   ]
  },
  {
   "cell_type": "code",
   "execution_count": null,
   "id": "b179c5d3-6769-4e91-8557-a9eac65a1a7a",
   "metadata": {},
   "outputs": [],
   "source": [
    "gdf.shape"
   ]
  },
  {
   "cell_type": "code",
   "execution_count": null,
   "id": "892a1beb-72f9-44e5-8365-35f4d863df9a",
   "metadata": {},
   "outputs": [],
   "source": [
    "gdf.info()"
   ]
  },
  {
   "cell_type": "markdown",
   "id": "590b290f-b1e9-4aa3-bf86-70da20ca8e2c",
   "metadata": {},
   "source": [
    "## Visualizing Spatial Data\n",
    "\n",
    "Effective visualization is crucial for spatial analysis, as it allows us to interpret spatial patterns and trends. In this section, users will learn how to create and stylize various map types, from basic geographic representations to complex visualizations that convey deeper spatial insights. This is the first step in bringing spatial data to life and is essential for communicating analysis results to others.\n",
    "\n",
    "### Visualizing spatial support\n",
    "\n",
    "Here, we delve into the concept of spatial support and how to visualize it. Spatial support refers to the underlying spatial structure or boundaries of a dataset, which provides essential context for spatial relationships. Visualizing these structures enhances our understanding of how data points interact spatially, setting the stage for more advanced analyses."
   ]
  },
  {
   "cell_type": "code",
   "execution_count": null,
   "id": "2985f78c-1cf7-4b74-b4ab-9a5fcc5cbfc5",
   "metadata": {},
   "outputs": [],
   "source": [
    "gdf.plot()"
   ]
  },
  {
   "cell_type": "code",
   "execution_count": null,
   "id": "7bf83413-7cf7-4dbb-b4a5-9491b6ca9320",
   "metadata": {},
   "outputs": [],
   "source": [
    "gdf.crs"
   ]
  },
  {
   "cell_type": "markdown",
   "id": "48e1823a-ef7e-457e-a0f1-f384d126c074",
   "metadata": {},
   "source": [
    "### Choropleth Mapping\n",
    "\n",
    "Choropleth maps are a powerful tool for visualizing regional data, particularly when examining patterns across geographic boundaries. This section focuses on creating choropleth maps of the Years of Potential Life Lost (YPLL) rate, a public health measure of years lost due to premature death. Users will learn techniques to fine-tune these maps, making them both informative and visually appealing."
   ]
  },
  {
   "cell_type": "markdown",
   "id": "24452634-8d48-46ca-8c28-f0438cca5d3c",
   "metadata": {},
   "source": [
    "*YPLL*: Years of Potential of Life Lost measuring years lost due to premature deaths per 100,000 population below age 75.[^1]\n",
    "\n",
    "[^1]: https://pmc.ncbi.nlm.nih.gov/articles/instance/6991288/bin/jamanetwopen-3-e1919928-s001.pdf"
   ]
  },
  {
   "cell_type": "code",
   "execution_count": null,
   "id": "8c32ec92-2e93-4fe2-9571-d5bae44233fa",
   "metadata": {},
   "outputs": [],
   "source": [
    "gdf.YPLL_rate.describe()"
   ]
  },
  {
   "cell_type": "code",
   "execution_count": null,
   "id": "b1f0f019-350e-49cd-9e9f-0d8cd60be41e",
   "metadata": {},
   "outputs": [],
   "source": [
    "import seaborn as sns\n",
    "sns.displot(gdf, x='YPLL_rate');\n",
    "\n"
   ]
  },
  {
   "cell_type": "code",
   "execution_count": null,
   "id": "6f56b5f6-3141-4ac1-b508-8067dfb56f2e",
   "metadata": {},
   "outputs": [],
   "source": [
    "gdf.plot(column='YPLL_rate')"
   ]
  },
  {
   "cell_type": "code",
   "execution_count": null,
   "id": "f9c34ed0-9118-453e-af41-a5c8b32a8092",
   "metadata": {},
   "outputs": [],
   "source": [
    "gdf.plot(column='YPLL_rate', legend=True)"
   ]
  },
  {
   "cell_type": "code",
   "execution_count": null,
   "id": "0794f834-c4af-4f4e-923e-8bf5fbf598c8",
   "metadata": {},
   "outputs": [],
   "source": [
    "gdf.plot(column='YPLL_rate', legend=True, scheme='quantiles', k=10)"
   ]
  },
  {
   "cell_type": "code",
   "execution_count": null,
   "id": "1a1b1da1-4ce4-49b9-b932-3fb9aed483ab",
   "metadata": {},
   "outputs": [],
   "source": [
    "gdf.plot(column='YPLL_rate', legend=True, scheme='quantiles', k=10,\n",
    "        legend_kwds={'bbox_to_anchor': (2, 1)})"
   ]
  },
  {
   "cell_type": "code",
   "execution_count": null,
   "id": "46ee5131-3e17-4b15-aebc-677ce569b6b2",
   "metadata": {},
   "outputs": [],
   "source": [
    "import seaborn as sns"
   ]
  },
  {
   "cell_type": "code",
   "execution_count": null,
   "id": "06a84ce5-48aa-4b91-b4a8-86d1b7381ec7",
   "metadata": {},
   "outputs": [],
   "source": [
    "gdf.plot(column='YPLL_rate', legend=True, scheme='fisherjenks', k=10,\n",
    "        legend_kwds={'bbox_to_anchor': (2, 1)})"
   ]
  },
  {
   "cell_type": "markdown",
   "id": "43c42c1a-8102-4003-8ef0-79454c1b93dc",
   "metadata": {},
   "source": [
    "#### turning axis-off"
   ]
  },
  {
   "cell_type": "code",
   "execution_count": null,
   "id": "dad38499-9f4d-44a2-853a-f279146c3160",
   "metadata": {},
   "outputs": [],
   "source": [
    "ax = gdf.plot(column='YPLL_rate', legend=True, scheme='fisherjenks', k=10,\n",
    "        legend_kwds={'bbox_to_anchor': (2, 1)})\n",
    "ax.set_axis_off()"
   ]
  },
  {
   "cell_type": "markdown",
   "id": "88d32303-35bd-47e5-8b9a-6adec01347c4",
   "metadata": {},
   "source": [
    "### legend title"
   ]
  },
  {
   "cell_type": "code",
   "execution_count": null,
   "id": "cc3dac9e-f3b3-4a31-8022-1d9e34af7dd8",
   "metadata": {},
   "outputs": [],
   "source": [
    "ax = gdf.plot(column='YPLL_rate', legend=True, scheme='fisherjenks', k=10,\n",
    "              legend_kwds={'bbox_to_anchor': (2, 1), \n",
    "                           'title': 'Years of Potential Life Lost (YPLL)'})\n",
    "ax.set_axis_off()"
   ]
  },
  {
   "cell_type": "markdown",
   "id": "d864f456-c13a-42bc-aa8b-748ce139c8a5",
   "metadata": {},
   "source": [
    "### legend formatting"
   ]
  },
  {
   "cell_type": "code",
   "execution_count": null,
   "id": "63767176-11c6-4ccf-9d97-d508a90663f8",
   "metadata": {},
   "outputs": [],
   "source": [
    "import matplotlib.ticker as mticker\n",
    "\n",
    "ax = gdf.plot(column='YPLL_rate', legend=True, scheme='fisherjenks', k=10,\n",
    "              legend_kwds={\n",
    "                  'bbox_to_anchor': (2, 1),\n",
    "                  'title': 'Years of Potential Life Lost (YPLL)',\n",
    "                   'fmt': \"{:,.0f}\"  # Integer formatting\n",
    "              })\n",
    "ax.set_axis_off()"
   ]
  },
  {
   "cell_type": "markdown",
   "id": "17787036-987d-410a-8402-d718685cce62",
   "metadata": {},
   "source": [
    "### Interactive Mapping\n",
    "Interactive maps add a dynamic element to spatial analysis, allowing users to explore data in real time. This section introduces tools for creating interactive maps where users can zoom, pan, and interact with specific data points, making the data more accessible and engaging."
   ]
  },
  {
   "cell_type": "code",
   "execution_count": null,
   "id": "d7eb0b2c-6a76-4f67-b558-43875d08b1f3",
   "metadata": {},
   "outputs": [],
   "source": [
    "y_name = 'YPLL_rate'\n",
    "gdf.explore(column=y_name, tooltip=[y_name],\n",
    "           legend=True,\n",
    "           scheme='naturalbreaks',\n",
    "           k=10,\n",
    "           legend_kwds=dict(colorbar=False))"
   ]
  },
  {
   "cell_type": "markdown",
   "id": "fbead519-15f6-47ce-bd23-ba1df7ff828e",
   "metadata": {},
   "source": [
    "### Multiple layers"
   ]
  },
  {
   "cell_type": "code",
   "execution_count": null,
   "id": "15cd6359-c530-4e0f-9b44-cbe070ed3078",
   "metadata": {},
   "outputs": [],
   "source": [
    "import geodatasets\n",
    "groceries = gpd.read_file(geodatasets.get_path(\"geoda.groceries\")).explode(ignore_index=True)"
   ]
  },
  {
   "cell_type": "code",
   "execution_count": null,
   "id": "5bba584a-72d0-4e28-bb21-73279ee7a8c9",
   "metadata": {},
   "outputs": [],
   "source": [
    "import folium\n",
    "\n",
    "m = gdf.explore(\n",
    "    column=y_name,  # make choropleth based on \"POP2010\" column\n",
    "    scheme=\"naturalbreaks\",  # use mapclassify's natural breaks scheme\n",
    "    legend=True,  # show legend\n",
    "    k=10,  # use 10 bins\n",
    "    tooltip=False,  # hide tooltip\n",
    "    popup=[y_name],  # show popup (on-click)\n",
    "    legend_kwds=dict(colorbar=False),  # do not use colorbar\n",
    "    name=\"chicago\",  # name of the layer in the map\n",
    ")\n",
    "\n",
    "groceries.explore(\n",
    "    m=m,  # pass the map object\n",
    "    color=\"red\",  # use red color on all points\n",
    "    marker_kwds=dict(radius=5, fill=True),  # make marker radius 10px with fill\n",
    "    tooltip=\"Address\",  # show \"name\" column in the tooltip\n",
    "    tooltip_kwds=dict(labels=False),  # do not show column label in the tooltip\n",
    "    name=\"groceries\",  # name of the layer in the map\n",
    ")\n",
    "\n",
    "folium.TileLayer(\"CartoDB positron\", show=False).add_to(\n",
    "    m\n",
    ")  # use folium to add alternative tiles\n",
    "folium.LayerControl().add_to(m)  # use folium to add layer control\n",
    "m "
   ]
  },
  {
   "cell_type": "markdown",
   "id": "bc94f33f-6f44-4bc8-a858-ac5928d39e0c",
   "metadata": {},
   "source": [
    "## Representing Spatial Structure: Spatial Weights\n",
    "\n",
    "Spatial weights are fundamental to spatial analysis, defining the structure and connectivity between spatial units. This section explains how to create and visualize spatial weights using different methods, such as contiguity and kernel weights. Understanding spatial weights is essential for analyzing how spatial units influence each other, paving the way for spatial dependence and autocorrelation analyses."
   ]
  },
  {
   "cell_type": "code",
   "execution_count": null,
   "id": "9e211884-e647-43a4-a5f9-ab924f9b69f5",
   "metadata": {},
   "outputs": [],
   "source": [
    "wq = libpysal.weights.Queen.from_dataframe(gdf, use_index=True)"
   ]
  },
  {
   "cell_type": "code",
   "execution_count": null,
   "id": "e9dfc2cd-b130-4569-941b-59dd4f565935",
   "metadata": {},
   "outputs": [],
   "source": [
    "wq.n"
   ]
  },
  {
   "cell_type": "code",
   "execution_count": null,
   "id": "d0aa828e-17c8-4410-9f56-fedf9c47cd69",
   "metadata": {},
   "outputs": [],
   "source": [
    "wq.neighbors[0]"
   ]
  },
  {
   "cell_type": "code",
   "execution_count": null,
   "id": "09bf2ad3-015f-4251-b58d-c3f21435aff2",
   "metadata": {},
   "outputs": [],
   "source": [
    "wq.neighbors[544]"
   ]
  },
  {
   "cell_type": "code",
   "execution_count": null,
   "id": "963d667a-654b-4ebf-a141-d75fb144523f",
   "metadata": {},
   "outputs": [],
   "source": [
    "from splot.libpysal import plot_spatial_weights"
   ]
  },
  {
   "cell_type": "code",
   "execution_count": null,
   "id": "38d04672-ffd6-452b-9655-6d888903d679",
   "metadata": {},
   "outputs": [],
   "source": [
    "plot_spatial_weights(wq, gdf, figsize=(20,20));"
   ]
  },
  {
   "cell_type": "code",
   "execution_count": null,
   "id": "82c9bff8-094a-4489-83f8-788ed415cfd5",
   "metadata": {},
   "outputs": [],
   "source": [
    "wr = libpysal.weights.Rook.from_dataframe(gdf, use_index=True)"
   ]
  },
  {
   "cell_type": "code",
   "execution_count": null,
   "id": "4ba90479-8018-4968-af2c-e52539ee8883",
   "metadata": {},
   "outputs": [],
   "source": [
    "plot_spatial_weights(wr, gdf, figsize=(20,20));"
   ]
  },
  {
   "cell_type": "code",
   "execution_count": null,
   "id": "fb16bc12-ab40-4f88-ba8a-ab7f2ae33960",
   "metadata": {},
   "outputs": [],
   "source": [
    "import matplotlib.pyplot as plt\n",
    "fig, axs = plt.subplots(1, 2, figsize=(20, 20))\n",
    "plot_spatial_weights(wq, gdf, ax=axs[0])\n",
    "axs[0].set_title('Queen Graph')\n",
    "plot_spatial_weights(wr, gdf, ax=axs[1])\n",
    "axs[1].set_title('Rook Graph');"
   ]
  },
  {
   "cell_type": "code",
   "execution_count": null,
   "id": "d0644f15-a86e-4c42-9326-cf5456daec65",
   "metadata": {},
   "outputs": [],
   "source": [
    "wker10 = libpysal.weights.Kernel.from_dataframe(gdf, fixed=False, k=10)"
   ]
  },
  {
   "cell_type": "code",
   "execution_count": null,
   "id": "371647e1-63bf-4b74-8d74-7835eb2f5342",
   "metadata": {},
   "outputs": [],
   "source": [
    "wker10.weights[0]"
   ]
  },
  {
   "cell_type": "code",
   "execution_count": null,
   "id": "1d81c259-e541-4233-815f-abf5b6d260bd",
   "metadata": {},
   "outputs": [],
   "source": [
    "wker10.histogram"
   ]
  },
  {
   "cell_type": "code",
   "execution_count": null,
   "id": "54d5ad74-5aa8-4bdd-aded-ef21980f7b25",
   "metadata": {},
   "outputs": [],
   "source": []
  },
  {
   "cell_type": "markdown",
   "id": "a0641bbd-0016-4731-86a7-b246a8154956",
   "metadata": {},
   "source": [
    "### A Note on the Graph Class\n",
    "This section introduces the Graph class in libpysal, which allows users to represent spatial structures as graphs. By using graphs, users can visualize the relationships between spatial units more intuitively, an important feature for spatial network analysis. This functionality enriches spatial analysis by offering a way to capture and interpret the connectivity of spatial features."
   ]
  },
  {
   "cell_type": "code",
   "execution_count": null,
   "id": "58c8aa72-1e9e-4bac-bc0a-0a8cd722db90",
   "metadata": {},
   "outputs": [],
   "source": [
    "from libpysal import graph\n",
    "gq = graph.Graph.from_W(wq)"
   ]
  },
  {
   "cell_type": "code",
   "execution_count": null,
   "id": "3d1ac546-5063-4725-8ab3-0f9370f19222",
   "metadata": {},
   "outputs": [],
   "source": [
    "gq.explore(gdf)"
   ]
  },
  {
   "cell_type": "code",
   "execution_count": null,
   "id": "5e76447e-3fe1-490b-b0e4-f6dc578b99c2",
   "metadata": {},
   "outputs": [],
   "source": [
    "gq.explore(gdf, focal=170)"
   ]
  },
  {
   "cell_type": "code",
   "execution_count": null,
   "id": "0055e8bf-7c38-49e3-a86b-fedfcc36d940",
   "metadata": {},
   "outputs": [],
   "source": [
    "m = gdf.loc[gq[170].index].explore(color=\"#25b497\")\n",
    "gdf.loc[[170]].explore(m=m, color=\"#fa94a5\")\n",
    "gq.explore(gdf, m=m, focal=170)\n",
    "\n",
    "                      "
   ]
  },
  {
   "cell_type": "markdown",
   "id": "9cd06485-384b-4927-8196-c01af3a77de8",
   "metadata": {},
   "source": [
    "## Spatial Lag\n",
    "A spatial lag captures the influence of neighboring values on each spatial unit, providing insights into spatial dependence. Here, we demonstrate how to calculate spatial lag using different spatial weights, helping users understand the extent to which a location’s characteristics are affected by its neighbors."
   ]
  },
  {
   "cell_type": "code",
   "execution_count": null,
   "id": "646b1c25-23f2-4e35-aaf1-2f30ea6ebed8",
   "metadata": {},
   "outputs": [],
   "source": [
    "y_name = 'YPLL_rate'"
   ]
  },
  {
   "cell_type": "code",
   "execution_count": null,
   "id": "6292797a-6bfa-4025-9fa3-f6f8a68685c9",
   "metadata": {},
   "outputs": [],
   "source": [
    "wq.weights[0]"
   ]
  },
  {
   "cell_type": "code",
   "execution_count": null,
   "id": "139ebba4-2012-450a-b8b8-e839b6b6730e",
   "metadata": {},
   "outputs": [],
   "source": [
    "wq.transform='r'"
   ]
  },
  {
   "cell_type": "code",
   "execution_count": null,
   "id": "3256b653-22e0-43db-8210-bc7153199a04",
   "metadata": {},
   "outputs": [],
   "source": [
    "wq.weights[0]"
   ]
  },
  {
   "cell_type": "code",
   "execution_count": null,
   "id": "6b94cd3d-094c-4140-b05d-0bff395c3945",
   "metadata": {},
   "outputs": [],
   "source": [
    "slag = libpysal.weights.lag_spatial(wq, gdf[y_name])"
   ]
  },
  {
   "cell_type": "code",
   "execution_count": null,
   "id": "4cdfdbf4-2bae-45f3-ba2e-551887186450",
   "metadata": {},
   "outputs": [],
   "source": [
    "slag[:5]"
   ]
  },
  {
   "cell_type": "code",
   "execution_count": null,
   "id": "d0282b39-4530-408d-93a1-5cdf4c33287d",
   "metadata": {},
   "outputs": [],
   "source": [
    "gdf['slag'] = slag"
   ]
  },
  {
   "cell_type": "code",
   "execution_count": null,
   "id": "aecf331b-0a5f-4f2f-b642-e3e65111406d",
   "metadata": {},
   "outputs": [],
   "source": [
    "gdf[[y_name, 'slag']].head()"
   ]
  },
  {
   "cell_type": "code",
   "execution_count": null,
   "id": "2db67da7-7c39-48f3-aa24-e0ea425e86c0",
   "metadata": {},
   "outputs": [],
   "source": [
    "wker10.transform='r'\n",
    "slag_kern = libpysal.weights.lag_spatial(wker10, gdf[y_name])"
   ]
  },
  {
   "cell_type": "code",
   "execution_count": null,
   "id": "60e11dfd-aa67-4521-b8f7-132e3337d454",
   "metadata": {},
   "outputs": [],
   "source": [
    "gdf['slag_kern'] = slag_kern"
   ]
  },
  {
   "cell_type": "code",
   "execution_count": null,
   "id": "2222cf69-7be4-40ac-98ab-024682002f74",
   "metadata": {},
   "outputs": [],
   "source": [
    "gdf[[y_name, 'slag', 'slag_kern']].head()"
   ]
  },
  {
   "cell_type": "code",
   "execution_count": null,
   "id": "f2d95e73-9562-4caa-bc95-bc5dd7635cf3",
   "metadata": {},
   "outputs": [],
   "source": [
    "gdf.plot.scatter(x='slag', y='slag_kern', figsize=(8,6),\n",
    "                     title='Spatial Lags');"
   ]
  },
  {
   "cell_type": "code",
   "execution_count": null,
   "id": "40de95d0-a7fe-48e9-b94b-cd359b43c8d0",
   "metadata": {},
   "outputs": [],
   "source": [
    "ax = gdf.plot.scatter(x='slag', y='slag_kern', figsize=(8, 6), title='Spatial Lags')\n",
    "\n",
    "# Get the limits for x and y axes to ensure the line spans the plot range\n",
    "xlims = ax.get_xlim()\n",
    "ylims = ax.get_ylim()\n",
    "\n",
    "# Plot the diagonal line\n",
    "min_lim = min(xlims[0], ylims[0])  # Start from the minimum of both axes\n",
    "max_lim = max(xlims[1], ylims[1])  # End at the maximum of both axes\n",
    "\n",
    "ax.plot([min_lim, max_lim], [min_lim, max_lim], 'r--')  # 'r--' makes a dashed red line\n",
    "ax.set_xlim(xlims)\n",
    "ax.set_ylim(ylims)\n",
    "\n",
    "plt.show()"
   ]
  },
  {
   "cell_type": "code",
   "execution_count": null,
   "id": "aa1805ae-689a-46ba-901a-4b871a20e846",
   "metadata": {},
   "outputs": [],
   "source": [
    "import matplotlib.pyplot as plt\n",
    "import geopandas as gpd\n",
    "import libpysal\n",
    "import esda\n",
    "import numpy as np\n",
    "\n",
    "\n",
    "\n",
    "# Define the variable of interest - replace 'SID79' with your variable\n",
    "variable = 'YPLL_rate'\n",
    "\n",
    "# Create a spatial weights matrix based on Queen contiguity\n",
    "w = libpysal.weights.Queen.from_dataframe(gdf, use_index=True)\n",
    "w.transform = 'r'  # Row-standardize the weights\n",
    "\n",
    "# Calculate the spatial lag of the variable\n",
    "gdf['lag_variable'] = libpysal.weights.lag_spatial(w, gdf[variable])\n",
    "\n",
    "# Generate a spatially permuted version of the variable\n",
    "np.random.seed(123)  # Set a seed for reproducibility\n",
    "gdf['permuted_variable'] = np.random.permutation(gdf[variable])\n",
    "\n",
    "# Calculate the spatial lag of the permuted variable\n",
    "gdf['lag_permuted_variable'] = libpysal.weights.lag_spatial(w, gdf['permuted_variable'])\n",
    "\n",
    "\n",
    "\n",
    "\n",
    "# Plot the mapscv\n",
    "fig, axs = plt.subplots(2, 2, figsize=(12, 12))\n",
    "\n",
    "# First row: Original variable and its spatial lag\n",
    "gdf.plot(column=variable, cmap='viridis', legend=True, ax=axs[0, 0])\n",
    "axs[0, 0].set_title(f'Choropleth of {variable}')\n",
    "axs[0, 0].set_axis_off()  # Turn off axis for this subplot\n",
    "\n",
    "gdf.plot(column='lag_variable', cmap='viridis', legend=True, ax=axs[0, 1])\n",
    "axs[0, 1].set_title(f'Spatial Lag of {variable}')\n",
    "axs[0, 1].set_axis_off()  # Turn off axis for this subplot\n",
    "\n",
    "# Second row: Permuted variable and its spatial lag\n",
    "gdf.plot(column='permuted_variable', cmap='viridis', legend=True, ax=axs[1, 0])\n",
    "axs[1, 0].set_title(f'Spatial Permutation of {variable}')\n",
    "axs[1, 0].set_axis_off()  # Turn off axis for this subplot\n",
    "\n",
    "gdf.plot(column='lag_permuted_variable', cmap='viridis', legend=True, ax=axs[1, 1])\n",
    "axs[1, 1].set_title(f'Spatial Lag of Permuted {variable}')\n",
    "axs[1, 1].set_axis_off()  # Turn off axis for this subplot\n",
    "\n",
    "\n",
    "# Display the plots\n",
    "plt.tight_layout()\n",
    "plt.show()\n"
   ]
  },
  {
   "cell_type": "code",
   "execution_count": null,
   "id": "1d1932f5-45a6-4fbd-ae0a-095830f71064",
   "metadata": {},
   "outputs": [],
   "source": [
    "import matplotlib.pyplot as plt\n",
    "import geopandas as gpd\n",
    "import libpysal\n",
    "import esda\n",
    "import numpy as np\n",
    "\n",
    "\n",
    "\n",
    "# Define the variable of interest - replace 'SID79' with your variable\n",
    "variable = 'YPLL_rate'\n",
    "\n",
    "# Create a spatial weights matrix based on Queen contiguity\n",
    "w = libpysal.weights.Queen.from_dataframe(gdf, use_index=True)\n",
    "w.transform = 'r'  # Row-standardize the weights\n",
    "\n",
    "# Calculate the spatial lag of the variable\n",
    "gdf['lag_variable'] = libpysal.weights.lag_spatial(w, gdf[variable])\n",
    "\n",
    "# Generate a spatially permuted version of the variable\n",
    "np.random.seed(123)  # Set a seed for reproducibility\n",
    "gdf['permuted_variable'] = np.random.permutation(gdf[variable])\n",
    "\n",
    "# Calculate the spatial lag of the permuted variable\n",
    "gdf['lag_permuted_variable'] = libpysal.weights.lag_spatial(w, gdf['permuted_variable'])\n",
    "\n",
    "# Define a common color range for all plots\n",
    "vmin = min(gdf[[variable, 'lag_variable', 'permuted_variable', 'lag_permuted_variable']].min())\n",
    "vmax = max(gdf[[variable, 'lag_variable', 'permuted_variable', 'lag_permuted_variable']].max())\n",
    "\n",
    "# Plot the maps in a 2x2 grid with the same color range\n",
    "fig, axs = plt.subplots(2, 2, figsize=(12, 12))\n",
    "\n",
    "# First row: Original variable and its spatial lag\n",
    "gdf.plot(column=variable, cmap='viridis', legend=True, ax=axs[0, 0], vmin=vmin, vmax=vmax)\n",
    "axs[0, 0].set_title(f'Choropleth of {variable}')\n",
    "axs[0, 0].set_axis_off()  # Turn off axis for this subplot\n",
    "\n",
    "gdf.plot(column='lag_variable', cmap='viridis', legend=True, ax=axs[0, 1], vmin=vmin, vmax=vmax)\n",
    "axs[0, 1].set_title(f'Spatial Lag of {variable}')\n",
    "axs[0, 1].set_axis_off()  # Turn off axis for this subplot\n",
    "\n",
    "# Second row: Permuted variable and its spatial lag\n",
    "gdf.plot(column='permuted_variable', cmap='viridis', legend=True, ax=axs[1, 0], vmin=vmin, vmax=vmax)\n",
    "axs[1, 0].set_title(f'Spatial Permutation of {variable}')\n",
    "axs[1, 0].set_axis_off()  # Turn off axis for this subplot\n",
    "\n",
    "gdf.plot(column='lag_permuted_variable', cmap='viridis', legend=True, ax=axs[1, 1], vmin=vmin, vmax=vmax)\n",
    "axs[1, 1].set_title(f'Spatial Lag of Permuted {variable}')\n",
    "axs[1, 1].set_axis_off()  # Turn off axis for this subplot\n",
    "\n",
    "\n",
    "\n",
    "\n",
    "# Display the plots\n",
    "plt.tight_layout()\n",
    "plt.show()\n"
   ]
  },
  {
   "cell_type": "markdown",
   "id": "9af320f0-0ad4-42cd-9d96-6dcacf653ee1",
   "metadata": {},
   "source": [
    "## Global Spatial Autocorrelation\n",
    "Global spatial autocorrelation quantifies the degree of clustering or dispersion in a spatial dataset. This section introduces Moran’s I, a measure of spatial autocorrelation, to assess the overall spatial pattern of a variable. By analyzing global spatial autocorrelation, users gain a high-level understanding of spatial structure across the study area."
   ]
  },
  {
   "cell_type": "code",
   "execution_count": null,
   "id": "195a2e3b-bf9e-43e0-a922-90c5798211a3",
   "metadata": {},
   "outputs": [],
   "source": [
    "import esda"
   ]
  },
  {
   "cell_type": "code",
   "execution_count": null,
   "id": "2d541fbd-7656-4e40-ab7e-3a2e5a5f81d4",
   "metadata": {},
   "outputs": [],
   "source": [
    "moran_res = esda.moran.Moran(gdf[y_name], wq)"
   ]
  },
  {
   "cell_type": "code",
   "execution_count": null,
   "id": "b0d2275c-8fad-4277-8e18-4d5e22666c82",
   "metadata": {},
   "outputs": [],
   "source": [
    "moran_res.I, moran_res.p_sim"
   ]
  },
  {
   "cell_type": "code",
   "execution_count": null,
   "id": "2d6408b7-e850-469d-b7ec-d5b8ebe80c56",
   "metadata": {},
   "outputs": [],
   "source": [
    "moran_res = esda.moran.Moran(gdf[y_name], wq, permutations=9999)\n",
    "moran_res.I, moran_res.p_sim"
   ]
  },
  {
   "cell_type": "code",
   "execution_count": null,
   "id": "ada0a4d0-1615-4a6b-8f60-75ecd92974cb",
   "metadata": {},
   "outputs": [],
   "source": [
    "from splot.esda import plot_moran\n",
    "\n",
    "plot_moran(moran_res, zstandard=True);"
   ]
  },
  {
   "cell_type": "code",
   "execution_count": null,
   "id": "d30d4ad8-1bae-4efe-a49f-d40feae8eb3b",
   "metadata": {},
   "outputs": [],
   "source": [
    "moran_res_r = esda.moran.Moran(gdf['permuted_variable'], wq)\n",
    "\n",
    "from splot.esda import plot_moran\n",
    "\n",
    "plot_moran(moran_res_r, zstandard=True);"
   ]
  },
  {
   "cell_type": "code",
   "execution_count": null,
   "id": "da19e109-16d2-4c36-af3d-121ac1920ccc",
   "metadata": {},
   "outputs": [],
   "source": [
    "moran_res_r.I, moran_res_r.p_sim"
   ]
  },
  {
   "cell_type": "code",
   "execution_count": null,
   "id": "2f6b7b4e-e6a5-40ba-8322-9f1b65191163",
   "metadata": {},
   "outputs": [],
   "source": [
    "import splot.esda"
   ]
  },
  {
   "cell_type": "code",
   "execution_count": null,
   "id": "bb86cca0-42c7-465d-8017-7759a3dbaff0",
   "metadata": {},
   "outputs": [],
   "source": [
    "from splot.esda import moran_scatterplot\n",
    "from esda.moran import Moran_Local\n",
    "import matplotlib.pyplot as plt\n",
    "\n",
    "# calculate Moran_Local and plot\n",
    "moran_loc = Moran_Local(gdf[y_name], wq)\n",
    "fig, ax = moran_scatterplot(moran_loc, zstandard=True)\n",
    "ax.set_xlabel(f\"{y_name}\")\n",
    "ax.set_ylabel(f\"Spatial Lag of {y_name}\")\n",
    "plt.show()"
   ]
  },
  {
   "cell_type": "markdown",
   "id": "0348d6de-fb86-4e0b-8126-ad13ab5e5968",
   "metadata": {},
   "source": [
    "## Local Spatial Autocorrelation\n",
    "While global measures offer an overview, local spatial autocorrelation techniques reveal spatial patterns at a finer scale. This section demonstrates how to use Local Indicators of Spatial Association (LISA) to identify hotspots, clusters, and outliers within the dataset. This localized approach is particularly valuable for identifying specific areas of interest within a larger spatial context."
   ]
  },
  {
   "cell_type": "code",
   "execution_count": null,
   "id": "6cfa5713-9308-4cc9-8c76-c1ff2ef6fa7e",
   "metadata": {},
   "outputs": [],
   "source": [
    "from splot.esda import moran_scatterplot\n",
    "from esda.moran import Moran_Local\n",
    "import matplotlib.pyplot as plt\n",
    "\n",
    "# calculate Moran_Local and plot\n",
    "moran_loc = Moran_Local(gdf[y_name], wq)\n",
    "fig, ax = moran_scatterplot(moran_loc, zstandard=True, p=0.05)\n",
    "ax.set_xlabel(f\"{y_name}\")\n",
    "ax.set_ylabel(f\"Spatial Lag of {y_name}\")\n",
    "plt.show()"
   ]
  },
  {
   "cell_type": "code",
   "execution_count": null,
   "id": "1f782375-56a9-4848-8a55-804227d72c7e",
   "metadata": {},
   "outputs": [],
   "source": [
    "from splot.esda import lisa_cluster\n",
    "\n",
    "lisa_cluster(moran_loc, gdf, p=0.05, figsize = (9,9))\n",
    "plt.show()\n",
    "\n"
   ]
  },
  {
   "cell_type": "code",
   "execution_count": null,
   "id": "c1ccf4c6-f900-47f9-afdf-be8a1a7235ed",
   "metadata": {},
   "outputs": [],
   "source": [
    "from splot.esda import plot_local_autocorrelation\n",
    "plot_local_autocorrelation(moran_loc, gdf, y_name, figsize=(9, 9))\n",
    "plt.show()"
   ]
  },
  {
   "cell_type": "code",
   "execution_count": null,
   "id": "1af58fc9-9f69-455f-b3ef-944351baa086",
   "metadata": {},
   "outputs": [],
   "source": [
    "from splot.esda import plot_local_autocorrelation\n",
    "plot_local_autocorrelation(moran_loc, gdf, y_name, figsize=(9,9), quadrant=1)\n",
    "plt.show()"
   ]
  },
  {
   "cell_type": "code",
   "execution_count": null,
   "id": "d53a234f-7160-4dae-8a8a-db367ffca52c",
   "metadata": {},
   "outputs": [],
   "source": [
    "from splot.esda import plot_local_autocorrelation\n",
    "plot_local_autocorrelation(moran_loc, gdf, y_name, figsize=(9,9), quadrant=3)\n",
    "plt.show()"
   ]
  }
 ],
 "metadata": {
  "kernelspec": {
   "display_name": "Python 3 (ipykernel)",
   "language": "python",
   "name": "python3"
  },
  "language_info": {
   "codemirror_mode": {
    "name": "ipython",
    "version": 3
   },
   "file_extension": ".py",
   "mimetype": "text/x-python",
   "name": "python",
   "nbconvert_exporter": "python",
   "pygments_lexer": "ipython3",
   "version": "3.10.0"
  }
 },
 "nbformat": 4,
 "nbformat_minor": 5
}
