{
 "cells": [
  {
   "cell_type": "markdown",
   "id": "042eb71f-e4d1-41ea-8a64-7e7b9bc5baca",
   "metadata": {},
   "source": [
    "# Understanding coverage problems: a spatial optimisation classic\n",
    "\n",
    "*Levi John Wolf* [levi.john.wolf@bristol.ac.uk](mailto:levi.john.wolf@bristol.ac.uk)"
   ]
  },
  {
   "cell_type": "markdown",
   "id": "8473c1ca-bbe2-4fe5-8272-f378b634fb66",
   "metadata": {},
   "source": [
    "In the previous notebook, we worked with a general-purpose *mathematical* programming problem for spatial optimisation, the *p-median problem*, which seeks to maximise the benefit gained from locating some number of \"depots\" required to service a set of demand points. We use binary *location* decision variables $y_j$ to represent whether or not a potential depot is selected (with $j=1...m$), and another set of *allocation* decision variables $z_{ij}$ to represent whether we serve demand point $i$ is served by depot $j$ (with $i=1...n$). Each trip from depot to demand site has some distance-based cost, $d_{ij}$, and we must carry $w_i$ units to demand site $i$ in order to fully satisfy its needs. With these symbols, we can state the P-Median problem as:\n",
    "\n",
    "<div class=\"alert alert-success\" role=\"alert\">\n",
    "<b>The P Median Problem</b>\n",
    "\n",
    "*Minimise* \n",
    "\n",
    "$\\sum_i^n\\sum_j^m d_{ij}z_{ij}w_{i}$\n",
    "\n",
    "*Subject To:*\n",
    "\n",
    "1. *Locate $p$ Facilities*:&emsp;&emsp;&emsp;&emsp;&ensp;&nbsp; $ \\sum_{j}^{m} y_{j} = p$\n",
    "2. *Allocate Clients Once*:&emsp;&emsp;&emsp; $ \\sum_{j}^{m} z_{ij} = 1 \\ \\ \\ \\ \\forall i$\n",
    "3. *Allocate to Open Facilities*:&emsp; $ z_{ij} \\leq y_j \\ \\ \\ \\ \\forall i,j$\n",
    "4. *Binary Location Decisions*:&emsp; $y_j \\in {0,1} \\ \\ \\ \\ \\forall j$ <br>&emsp;&emsp;&emsp;&emsp;&ensp;&emsp;&emsp;&emsp;&emsp;&ensp;&emsp;&emsp;&emsp;&emsp;   $z_{ij} \\in {0,1} \\ \\ \\ \\ \\forall i,j$\n",
    "\n",
    "</div>\n",
    "\n",
    "This model is a very useful *general* model for solving spatial location-allocation problems. However, a distinct family of models, called *coverage* models, allow us to extend the $p$-median model functionality in useful ways. "
   ]
  },
  {
   "cell_type": "markdown",
   "id": "16b3e769-30b5-4bec-9336-6f68e112c630",
   "metadata": {},
   "source": [
    "## The unique issue of *coverage*\n",
    "\n",
    "In a $p$-median model, every demand point *must* be served by some depot. That is, all demand points are *covered* by a supply, no matter how remote the demand point is. By *covered*, we mean that the demand is able to be satisfied by the supply point, even when the distance between the demand and the supply is very large. \n",
    "\n",
    "In many optimisation problems, most clearly police or fire department planning, we cannot naively assume that very distant demand points are able to be *covered* by some supply. Indeed, we often need to ensure that every demand point is within some reasonable distance or travel time from the located facility: no house should be more than a 10 minute ambulance ride away from a hospital, for example. In this case, we might ask: how many hospitals would we need in order to ensure that no house is more than a 10-minute ambulance ride away? This is a kind of *coverage* problem (sometimes called a *set cover* problem), and is incredibly common in mathematics.  \n",
    "\n",
    "To think of this practically, imagine each you have a map of your city laid out in front of you. Imagine that each hospital is like a big disc covering the area you can get to within ten minutes from that hospital. We want to place these discs onto our map in such a way that we \"cover\" every demand point with at least one disc. A \"good\" solution will ensure that we place the fewest discs possible. This is a *location set covering problem* (LSCP), since we seek to *locate* facilities necessary to *cover* a *set* of other demand points. \n",
    "\n",
    "Keeping with the practical example, cities do not have unlimited budgets, and hospitals are quite expensive to build and maintain. If we can only locate ten hospitals, we might want to locate those ten hospitals in such a way that maximizes the amount of people they can serve to our specified service standard. That is, we may want to try to place a fixed number of hospital-discs in order to *maximize the population covered* by these discs. In this case, we have a slightly different kind of coverage problem: we have a *maximal coverage location problem* (MCLP).\n",
    "\n",
    "These two coverage problems are quite common in spatial optimisation, and require slightly different formulations to solve. We will develop the simpler one, the LSCP, first. \n",
    "\n",
    "## Specifying a location set covering problem \n",
    "\n",
    "The LSCP is quite simple to specify. Using the same symbols from our P-Median problem above, let us imagine we have $y_j$ sites where we can locate a potential facility, and $d_{ij}$ reflects the travel time from facility $j$ to demand point $i$. Then, let's imagine that we have some \"service standard\" $S$ that determines whether $d_{ij}$ is \"short enough\" for facility $j$ to cover demand $i$. That is, let's define a new term, $\\eta_i$, which describes the facilities *in the neighborhood of $i$* that are close enough to serve $i$. Mathematically, we spell this as $\\eta_i = \\{j \\ |\\ d_{ij} \\leq S\\}$, which is read like: \"the set of $j$ where $d_{ij}$ is less than $S$\". The symbol $\\{...\\}$ indicates that we're talking about a set of things within the curly braces, and the vertical line in something like $a|b$ means that we're looking for $a$-type things on the left that obey the condition $b$ given on the right. With this in mind, we can define an LSCP to minimize the number of facilities we site that cover all of our demand points:\n",
    "\n",
    "<div class=\"alert alert-success\" role=\"alert\">\n",
    "<b>The Location Set Covering Problem</b>\n",
    "\n",
    "*Minimise* \n",
    "\n",
    "$\\sum_j^m y_{j}$\n",
    "\n",
    "*Subject To:*\n",
    "\n",
    "1. *All demands should be covered*:&emsp;&emsp;&emsp;&emsp; $ \\sum_{j \\in \\eta_i} y_{j} \\geq 1 \\ \\ \\ \\ \\ \\ \\ \\ \\forall i$\n",
    "2. *Binary Location Decisions*:&emsp;&emsp;&emsp;&emsp;&emsp;&emsp;&emsp;&emsp;&emsp;&emsp; $y_j \\in {0,1} \\ \\ \\ \\ \\forall j$\n",
    "\n",
    "</div>\n",
    "\n",
    "Here, our objective function represents the number of facilities (hospitals, in our discussion above) that we locate. You can see that this problem has fewer *explicit* constraints than the P-Median problem we discussed before, but the \"allocation\" part of the decision is made implicitly/automatically. By constraint 1, all of the demand sites that can be served by $j$, will be served $j$. More than one supply can be serve a demand, too. And, note that distance does not directly enter into the LSCP beyond allowing us to define $\\eta_i$ *before we try to solve the model*. Thus, the LSCP is easy to think of as a pure \"locational\" optimisation problem, without any \"allocation\" component that we must choose. \n",
    "\n",
    "## Specifying a maximal coverage location problem\n",
    "\n",
    "The Maximum Coverage location problem (MCLP) is more similar in specification to a $p$-median problem, in that we require a few more constraints than the LSCP. Since we can choose *not* to cover any demand, we need to use an \"allocation\" decision variable to keep track of whether or not a given demand point is \"allocated\" to a supply site. Let's refer to this as $X_{i}$, which is a binary variable indicating whether $x_i$ is considered \"covered.\" Then, we can state an MCLP by maximizing the total demand covered by $p$ facilities $y_j$: \n",
    "\n",
    "<div class=\"alert alert-success\" role=\"alert\">\n",
    "<b>The Maximal Coverage Location Problem </b>\n",
    "\n",
    "*Maximize*:\n",
    "\n",
    "$\\sum_{i}^n w_ix_i$\n",
    "\n",
    "*Subject To:*\n",
    "\n",
    "1. *A covered demand should be served*: $\\sum_{j \\in \\eta_i} Y_j \\geq X_i \\ \\ \\forall i$\n",
    "2. *Locate $p$ facilities*: &emsp;&emsp;&emsp;&emsp;&emsp;&emsp;&emsp;&emsp;&emsp; $\\sum_j^m Y_j = p$\n",
    "3. *Binary Location Decisions*:&emsp;&emsp;&emsp;&emsp;&emsp;&emsp;&emsp;&emsp; $y_j \\in {0,1} \\ \\ \\ \\ \\forall j$ <br>&emsp;&emsp;&emsp;&emsp;&ensp;&emsp;&emsp;&emsp;&emsp;&ensp;&emsp;&emsp;&emsp;&emsp;&emsp;&emsp;&emsp;&emsp;&emsp;&emsp;&emsp;  $x_{i} \\in {0,1} \\ \\ \\ \\ \\forall i$\n",
    "\n",
    " \n",
    "</div>\n",
    "\n",
    "Here, our objective function represents the total demand that we have served. You can see that this problem still has fewer *explicit* constraints than the P-Median problem we discussed before, but the \"allocation\" part of the decision is again made implicitly/automatically. By constraint 1, a site can only be considered \"covered\" if it fits within the service standard. Further, we only have a budget to locate $p$ facilities (constraint 2). Thus, the MCLP gets us a *step closer* to a $p$-median style problem, but we still have a maximum distance past which we cannot allocate, which changes the nature of the allocation decision. Further, this is a *maximization problem*, like the knapsack problem we discussed in the first notebook. This means that we seek to find the *largest population possible* that is covered by a solution. "
   ]
  },
  {
   "cell_type": "markdown",
   "id": "c07a80d3-d5f0-4a1c-bdf7-813e5e315fa2",
   "metadata": {},
   "source": [
    "# Show\n",
    "\n",
    "For this example, we will solve for parcel depots in inner-city Bristol. We will use a few more libraries this time: "
   ]
  },
  {
   "cell_type": "code",
   "execution_count": null,
   "id": "82ba5fdb-c49b-4b6e-8563-c562e5b20331",
   "metadata": {},
   "outputs": [],
   "source": [
    "import pandas\n",
    "import pulp\n",
    "import geopandas # standard library for geographical data in Python\n",
    "import numpy # standard library for numerical and array-based computing\n",
    "import spopt # library for spatial optimisation"
   ]
  },
  {
   "cell_type": "markdown",
   "id": "7cbc89a0-f645-4ddf-9c39-a0d042f13f88",
   "metadata": {},
   "source": [
    "To implement an LSCP, we will start with data on the location of postcodes in the UK: "
   ]
  },
  {
   "cell_type": "code",
   "execution_count": null,
   "id": "2e031218-d8fa-446c-b7c0-09df4c366374",
   "metadata": {},
   "outputs": [],
   "source": [
    "postcodes = pandas.read_csv(\"./data/uk_postcodes.csv\")\n",
    "postcodes.head()"
   ]
  },
  {
   "cell_type": "markdown",
   "id": "e11ead3f-83bf-4bb9-b9a2-85c7f601773a",
   "metadata": {},
   "source": [
    "Further, since we have geographic data (in terms of the latitude and longitude of postcode centroids), we will use `geopandas` to make maps and work with the spatial data. "
   ]
  },
  {
   "cell_type": "code",
   "execution_count": null,
   "id": "def63b55-207e-4507-9b76-4386017c8c62",
   "metadata": {},
   "outputs": [],
   "source": [
    "postcodes = geopandas.GeoDataFrame(\n",
    "    postcodes, \n",
    "    geometry=geopandas.points_from_xy(postcodes.lon, postcodes.lat, crs=\"epsg:4326\")\n",
    ")"
   ]
  },
  {
   "cell_type": "markdown",
   "id": "d9658029-e25c-4ac4-8976-372175e79e03",
   "metadata": {},
   "source": [
    "To keep the analysis tractable, we will also focus *only* on inner-city Bristol postcodes: "
   ]
  },
  {
   "cell_type": "code",
   "execution_count": null,
   "id": "ca0c373f-abfa-41ac-a231-5061e31bd636",
   "metadata": {},
   "outputs": [],
   "source": [
    "bristol_postcodes = postcodes[postcodes.outward.str.startswith(\"BS\")].copy()\n",
    "\n",
    "# is the postcode in the center of the city? \n",
    "is_inner_city = bristol_postcodes.outward.str.lstrip(\"BS\").astype(int) < 10\n",
    "\n",
    "# if so, keep it around\n",
    "bristol_innercity = bristol_postcodes[is_inner_city].copy()"
   ]
  },
  {
   "cell_type": "markdown",
   "id": "13464027-9f3c-4481-9c7a-adbc39f160a2",
   "metadata": {},
   "source": [
    "To visualise, this results in only nine postcodes in the center of the city: "
   ]
  },
  {
   "cell_type": "code",
   "execution_count": null,
   "id": "293fcb38-f2a1-4fd1-90a9-859845e1cade",
   "metadata": {},
   "outputs": [],
   "source": [
    "bristol_innercity"
   ]
  },
  {
   "cell_type": "code",
   "execution_count": null,
   "id": "ad4fa0ff-a279-445e-bc73-69ce714a7254",
   "metadata": {},
   "outputs": [],
   "source": [
    "bristol_innercity.explore('demand', cmap='Reds')"
   ]
  },
  {
   "cell_type": "markdown",
   "id": "ef5e520f-750b-4214-8683-5497f9585d7f",
   "metadata": {},
   "source": [
    "In this case, we will assume that we are locating facilities at postcode centroids, and all client demand exists at that centroid. This is obviously an abstraction, but many real-world companies solve their location-allocation problems at exactly this level of abstraction! \n",
    " \n",
    "To build an `LSCP` object, we first need to deal with the service radius constraint. This means that we may need to *project* our data into an equidistant projection, useful for calculating accurate distances in meters. We will use the `estimate_utm_crs()` method in `geopandas` in order to convert our data into a projection that is reasonably accurate (within 1%) for the calculation of distances. "
   ]
  },
  {
   "cell_type": "code",
   "execution_count": null,
   "id": "f6d8ec85-bd08-4eea-8fe2-587abb853368",
   "metadata": {},
   "outputs": [],
   "source": [
    "bristol_innercity_utm = bristol_innercity.to_crs(\n",
    "    bristol_innercity.estimate_utm_crs()\n",
    ")"
   ]
  },
  {
   "cell_type": "markdown",
   "id": "9ceacc26-2931-48bf-942f-f7cf0131d92d",
   "metadata": {},
   "source": [
    "Then, let us solve an LSCP with a service radius of 4 kilometers: "
   ]
  },
  {
   "cell_type": "code",
   "execution_count": null,
   "id": "7dc60ca5-aa22-4369-b24e-ce66204ac95d",
   "metadata": {},
   "outputs": [],
   "source": [
    "model = spopt.locate.LSCP.from_geodataframe(\n",
    "    gdf_demand=bristol_innercity_utm,\n",
    "    gdf_fac=bristol_innercity_utm,\n",
    "    service_radius = 4000,\n",
    "    demand_col=\"geometry\", \n",
    "    facility_col=\"geometry\",\n",
    ")"
   ]
  },
  {
   "cell_type": "markdown",
   "id": "25c68241-9531-4275-a673-e1993e152cc3",
   "metadata": {},
   "source": [
    "This object is a special instance of the `spopt` spatial optimisation library for Python's `locate` class, which supports generic location-allocation problem specifications: "
   ]
  },
  {
   "cell_type": "code",
   "execution_count": null,
   "id": "1440ca79-65e0-4ae2-a321-03018527f35c",
   "metadata": {},
   "outputs": [],
   "source": [
    "model"
   ]
  },
  {
   "cell_type": "markdown",
   "id": "f319b85d-18e5-4a0e-bd40-00bce6da3dd0",
   "metadata": {},
   "source": [
    "You can see that the underlying `pulp` model is stored in the `.problem` attribute, and it should look similar to the problem we specified above. But, it will be *rather long* because of the number of constraints: "
   ]
  },
  {
   "cell_type": "code",
   "execution_count": null,
   "id": "a6bd1ae6-8690-471a-8346-f1b806c21681",
   "metadata": {},
   "outputs": [],
   "source": [
    "model.problem"
   ]
  },
  {
   "cell_type": "markdown",
   "id": "58bb53b9-14de-482b-9423-03844d53ee32",
   "metadata": {},
   "source": [
    "Remember our P-median problem, with over 90 constraints? Here we only have 18. Note that each of the constraints corresponding to (C2) in our model are of different lengths. Take, for instance, `_C7`: this means that either `y_4`, `y_5`, or `y_6` must be chosen, since these three facilities are the only ones that cover demand point 7. Likewise, we see that only $y_2$ or $y_7$ can cover demand 3, represented in `_C3`.  \n",
    "\n",
    "To solve the model, we use the `.solve()` method (like before).\n",
    "\n",
    "We will again use the open-source COIN-OR solver here, `pulp.COIN_CMD()`. This also allows you to provide options to the solver itself, such as `msg=False`, which turns off the verbose printing of model progress: "
   ]
  },
  {
   "cell_type": "code",
   "execution_count": null,
   "id": "fbaa8d28-b836-4b7d-8a4c-d1904e2f3733",
   "metadata": {},
   "outputs": [],
   "source": [
    "model.solve(pulp.COIN_CMD(msg=False))"
   ]
  },
  {
   "cell_type": "markdown",
   "id": "0548e13e-d5e9-4d81-94ae-d4220203d469",
   "metadata": {},
   "source": [
    "For the solved `PMedian` object, the `.cli2fac` list records the facility that each client was assigned to in the optimal solution. You can see this below:  "
   ]
  },
  {
   "cell_type": "code",
   "execution_count": null,
   "id": "c97273ca-cc59-4c7b-b099-5170e7e81a63",
   "metadata": {},
   "outputs": [],
   "source": [
    "model.cli2fac"
   ]
  },
  {
   "cell_type": "markdown",
   "id": "bef52c58-17fe-4a05-9eb3-11609cf109e5",
   "metadata": {},
   "source": [
    "Now, we actually have a multiple assignment! Since facilities 4 and 7 have been chosen *and* facilities 4 and 7 both cover demand 1, the `.cli2fac` entry for demand `1` has two elements! This indicates \"duplicate coverage,\" since client 1 can be covered by both facility 4 and facility 7. \n",
    "\n",
    "In addition, the mapping *in reverse* is stored in the `.fac2cli` list-of-lists: "
   ]
  },
  {
   "cell_type": "code",
   "execution_count": null,
   "id": "2a49669a-f33e-43c1-8d1a-fa9ac3a33113",
   "metadata": {},
   "outputs": [],
   "source": [
    "model.fac2cli"
   ]
  },
  {
   "cell_type": "markdown",
   "id": "80e19b5b-24ee-4eaf-98ac-233290580045",
   "metadata": {},
   "source": [
    "Now that we have duplicate coverages, we cannot stack the allocations easily into a single vector. instead, let's put them into a `pandas.Series`:"
   ]
  },
  {
   "cell_type": "code",
   "execution_count": null,
   "id": "6e0bdb09-2dec-426b-9c84-d0477d9e349e",
   "metadata": {},
   "outputs": [],
   "source": [
    "allocations = pandas.Series(model.cli2fac)\n",
    "allocations"
   ]
  },
  {
   "cell_type": "markdown",
   "id": "136e27b1-1eaa-4551-a7dd-152bee9625f7",
   "metadata": {},
   "source": [
    "Then, we can merge these back to the original dataframe: "
   ]
  },
  {
   "cell_type": "code",
   "execution_count": null,
   "id": "8ec817d3-ae81-4395-b180-8149cddace92",
   "metadata": {},
   "outputs": [],
   "source": [
    "bristol_innercity.assign(allocation = allocations.values)"
   ]
  },
  {
   "cell_type": "markdown",
   "id": "98dbb8b9-55d3-482e-802b-5c1048164770",
   "metadata": {},
   "source": [
    "In order to visualize our solution, we may need to convert these assignments into a categorical variable, so that folium will correctly render the multiple assignments: "
   ]
  },
  {
   "cell_type": "code",
   "execution_count": null,
   "id": "36a0bd8c-3f9a-43fa-aebd-e9315d5e5d7e",
   "metadata": {},
   "outputs": [],
   "source": [
    "bristol_innercity.assign(\n",
    "    allocation = allocations.astype(str).values\n",
    ").explore('allocation',\n",
    "         marker_kwds=dict(radius=10),\n",
    "          cmap='Dark2'\n",
    "         )"
   ]
  },
  {
   "cell_type": "markdown",
   "id": "14153271-afe0-4fb4-8bc2-03d01175401b",
   "metadata": {},
   "source": [
    "The process of fitting an MCLP is like a mixture of the LSCP and the P-Median. That is, we require *both* a service radius and a maximum number of facilities to locate. Here, let's see where to locate only *one* facility using the same service radius: "
   ]
  },
  {
   "cell_type": "code",
   "execution_count": null,
   "id": "b7e55c9a-aed4-4074-bb63-c386205049e0",
   "metadata": {},
   "outputs": [],
   "source": [
    "model = spopt.locate.MCLP.from_geodataframe(\n",
    "    gdf_demand=bristol_innercity_utm,\n",
    "    gdf_fac=bristol_innercity_utm,\n",
    "    weights_cols='demand',\n",
    "    service_radius = 4000,\n",
    "    p_facilities = 1,\n",
    "    demand_col=\"geometry\", \n",
    "    facility_col=\"geometry\",\n",
    ")"
   ]
  },
  {
   "cell_type": "code",
   "execution_count": null,
   "id": "85fe462a-bdbd-4995-8dd0-900855abbd0f",
   "metadata": {},
   "outputs": [],
   "source": [
    "model.solve(pulp.COIN_CMD(msg=False))"
   ]
  },
  {
   "cell_type": "markdown",
   "id": "30f49650-61a0-49c9-938c-d91ac8876c1c",
   "metadata": {},
   "source": [
    "If we only locate a single facility, we get the following assignments: "
   ]
  },
  {
   "cell_type": "code",
   "execution_count": null,
   "id": "06a05470-4a40-4228-8558-226db193e821",
   "metadata": {},
   "outputs": [],
   "source": [
    "model.cli2fac"
   ]
  },
  {
   "cell_type": "markdown",
   "id": "0a20b3ae-52d6-4b55-bf3a-9420e9049fb5",
   "metadata": {},
   "source": [
    "This means that, if we can only locate a single hospital, we would locate that hospital at site 1. And, this would leave clients 3 and 7 uncovered. To map this, we can define a variable called `covered` which is `False` when the allocation is empty:"
   ]
  },
  {
   "cell_type": "code",
   "execution_count": null,
   "id": "e31bd30b-16eb-4284-96d3-63d94837e85a",
   "metadata": {},
   "outputs": [],
   "source": [
    "covered = [assignment != [] for assignment in model.cli2fac]\n",
    "covered"
   ]
  },
  {
   "cell_type": "markdown",
   "id": "938332cc-7aca-4316-be93-999eedcc0fa8",
   "metadata": {},
   "source": [
    "Now, to visualize the coverage map, we just need to visualize the `covered` variable:"
   ]
  },
  {
   "cell_type": "code",
   "execution_count": null,
   "id": "c3be843e-0f23-4b72-a196-c6089677fa63",
   "metadata": {
    "scrolled": true
   },
   "outputs": [],
   "source": [
    "bristol_innercity.assign(\n",
    "    covered = covered\n",
    ").explore('covered',\n",
    "          marker_kwds=dict(radius=10),\n",
    "          cmap='Dark2_r'\n",
    "         )"
   ]
  },
  {
   "cell_type": "markdown",
   "id": "658e7013-661a-40b2-a685-360dd3955f98",
   "metadata": {},
   "source": [
    "Thus, the \"covered\" facilities are in the center. Facility 1 corresponds to BS2, in the center of the map (below \"Kingsdown\", on in of \"Broadmead\"). "
   ]
  },
  {
   "cell_type": "markdown",
   "id": "6972697d-cee4-47b9-89a2-6a4af912cb9a",
   "metadata": {},
   "source": [
    "# Do: fit your own coverage problems!\n",
    "\n",
    "Now it is time for you to try your hand at solving coverage problems. \n",
    "\n",
    "## One again, with feeling\n",
    "\n",
    "<div class=\"alert alert-warning\">\n",
    "    \n",
    "Using the methods we discussed above, can you create a new LSCP problem object to cover all Bristol post codes using a 5000 meter service radius? How many facilities are needed, and in which postcode are they located?\n",
    "\n",
    "</div>"
   ]
  },
  {
   "cell_type": "markdown",
   "id": "2f13d089-eba9-42d3-9ca5-82cfbd9a4432",
   "metadata": {},
   "source": [
    "## Budget cuts incoming!\n",
    "\n",
    "<div class=\"alert alert-warning\">\n",
    "    \n",
    "Using the methods we discussed above, can you create a new MCLP problem object to cover as many Bristol post codes as possible with six facilities and a 5000 meter service radius? What facilities are not covered? \n",
    "\n",
    "</div>"
   ]
  },
  {
   "cell_type": "markdown",
   "id": "98ceaf5b-9c96-4354-900e-1de48daf0c50",
   "metadata": {},
   "source": [
    "## Introduce capacity\n",
    "\n",
    "Let's assume that each facility can only serve 1000 inhabitants. Let's create a column for this in our dataframe: \n",
    "\n",
    "```python\n",
    "bristol_postcodes['capacity'] = 1000\n",
    "```\n",
    "\n",
    "<div class=\"alert alert-warning\">\n",
    "    \n",
    "Using the methods we discussed above and the `facility_capacity_col`, can you create a new LSCP problem object that includes this capacity constraint on facilities? How does it differ from the initial LSCP solution? \n",
    "\n",
    "</div>"
   ]
  },
  {
   "cell_type": "markdown",
   "id": "dfb740f5-6016-4ca0-b64f-517113d898b7",
   "metadata": {},
   "source": [
    "## MCLP is not PMedian"
   ]
  },
  {
   "cell_type": "markdown",
   "id": "65293025-c8f9-4700-a9fe-9242acd5b823",
   "metadata": {},
   "source": [
    "<div class=\"alert alert-warning\">\n",
    "\n",
    "Solve a P-Median problem for the same number of facilities (six) as our previous MCLP example. How do the MCLP/P-Median model solutions differ? \n",
    "\n",
    "</div>"
   ]
  },
  {
   "cell_type": "markdown",
   "id": "94db523d-99a0-46fb-b0ca-daa798ed4304",
   "metadata": {},
   "source": [
    "## Challenge: Bristol is far from an isometric plane! "
   ]
  },
  {
   "cell_type": "markdown",
   "id": "b6e69f19-692e-4254-8e50-3c13406541a4",
   "metadata": {},
   "source": [
    "After a few months using the new depots, you begin to hear about complaints from your drivers about the awkwardness of the depot locations. Specifically, it seems your solver has used Euclidean Distances for everything, which means that you've assumed the Earth is flat, and trucks can drive anywhere in Bristol!  This is a problem for many of your drivers. So, you build a \"cost table\" that describes the __typical travel time from every postcode to every other postcode__. No doubt this can help!\n",
    "\n",
    "The code implementing this is rather long and omitted for brevity here, but is available in `01-compute_costs.py`. We will read in the cost table here: "
   ]
  },
  {
   "cell_type": "code",
   "execution_count": null,
   "id": "c77d2c20-4982-4d08-9191-353a2de0ce37",
   "metadata": {},
   "outputs": [],
   "source": [
    "cost_table = pandas.read_csv(\"./data/cost_table.csv\")"
   ]
  },
  {
   "cell_type": "markdown",
   "id": "5280a560-4a2a-4b6f-8914-cf3882acfb11",
   "metadata": {},
   "source": [
    "To see the first few rows: "
   ]
  },
  {
   "cell_type": "code",
   "execution_count": null,
   "id": "92f56b63-947b-479d-a8cd-2831d1ed19ba",
   "metadata": {},
   "outputs": [],
   "source": [
    "cost_table.head()"
   ]
  },
  {
   "cell_type": "markdown",
   "id": "cffacb11-4532-468a-9d6b-58bce6b31f0e",
   "metadata": {},
   "source": [
    "This has a typical \"(origin, destination, weight)\" structure as is common in storing routing data. In this data, the \"travel_cost\" variable measures the driving distance (in meters) between the two postcode centroids. \n",
    "\n",
    "We will use this to provide a bit more realistic costs for the location-allocation decisions. \n",
    "\n",
    "To build a cost_matrix from this, you have to use the `.pivot()` method on the `pandas.DataFrame`, like so: "
   ]
  },
  {
   "cell_type": "code",
   "execution_count": null,
   "id": "fbd7c6cd-1ac9-49c5-aea3-3de6ca67df3e",
   "metadata": {},
   "outputs": [],
   "source": [
    "cost_matrix = cost_table.pivot(index=\"destination_postcode\", columns=\"origin_postcode\", values=\"travel_cost\")\n",
    "cost_matrix.iloc[0:5, 0:5]"
   ]
  },
  {
   "cell_type": "markdown",
   "id": "616b50be-0c3e-4655-9ff6-14b428ae2ad8",
   "metadata": {},
   "source": [
    "<div class=\"alert alert-warning\">\n",
    "    \n",
    "Using `spopt.locate.LSCP.from_cost_matrix()` function, can you create a new `LSCP` problem object to cover facilities using a 1000-unit limit on the trip costs? How does this differ from your euclidean-based solution in the first question? \n",
    "\n",
    "</div>"
   ]
  },
  {
   "cell_type": "markdown",
   "id": "b39a51af-d8a3-4b2f-8c0c-28af8cd6758a",
   "metadata": {},
   "source": [
    "## Review"
   ]
  },
  {
   "cell_type": "markdown",
   "id": "6c0775a5-3c2b-44f9-8874-354e8bf17139",
   "metadata": {},
   "source": [
    "Coverage problems are a kind of *spatial optimisation* problem that occur when trying to ensure that individuals can access critical infrastructure within a given travel time or distance. It requires mainly *location* decisions (where to place facilities), since *allocation* decisions (what client is served by what facility) are made implicitly based on the constraint on the maximum travel distance. As such, is it considered a fundamental *location-allocation* problem, and has structures common to many different kinds of spatial optimisation problems, such as the transportation problem or the warehouse location problem. The Location Set Cover Problem (LSCP) focuses on trying to locate as few facilities as possible in order to cover demand points within a given service distance. The Maximal Cover Location Problem (MCLP) tries to cover as many people as possible given a fixed number of facilities and service distance requirement. Coverage problem can be stated and solved easily in Python using the `spopt` library, which wraps the large amount of constraint and variable declarations required to build the $p$-Median model in the underlying `pulp` package. It supports many variants of the LSCP and MCLP problems, including cases where the client sites are not the same as the facility sites and the use of travel time/routing distances.  "
   ]
  },
  {
   "cell_type": "code",
   "execution_count": null,
   "id": "f8ac781a-6c99-4462-9e4f-21ad3d046499",
   "metadata": {},
   "outputs": [],
   "source": []
  },
  {
   "cell_type": "code",
   "execution_count": null,
   "id": "eaff8c89-fc3c-4db7-813b-7ad5f3ee26f3",
   "metadata": {},
   "outputs": [],
   "source": []
  }
 ],
 "metadata": {
  "kernelspec": {
   "display_name": "Python 3 (ipykernel)",
   "language": "python",
   "name": "python3"
  },
  "language_info": {
   "codemirror_mode": {
    "name": "ipython",
    "version": 3
   },
   "file_extension": ".py",
   "mimetype": "text/x-python",
   "name": "python",
   "nbconvert_exporter": "python",
   "pygments_lexer": "ipython3",
   "version": "3.12.0"
  }
 },
 "nbformat": 4,
 "nbformat_minor": 5
}
